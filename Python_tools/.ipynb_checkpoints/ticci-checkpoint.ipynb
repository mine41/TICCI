{
 "cells": [
  {
   "cell_type": "code",
   "execution_count": null,
   "id": "6dc8c921",
   "metadata": {},
   "outputs": [],
   "source": [
    "import networkx as nx\n",
    "from matplotlib import cm \n",
    "from scipy.sparse import csr_matrix"
   ]
  },
  {
   "cell_type": "code",
   "execution_count": null,
   "id": "0f864334",
   "metadata": {},
   "outputs": [],
   "source": [
    "class ticci:\n",
    "    def __init__(self):\n",
    "        pass\n",
    "    \n",
    "    def add_cci(adata, cci_df, cci_k):\n",
    "        # 操作connectivites\n",
    "        arr = adata.obsp['connectivities'].toarray()#细胞邻接矩阵\n",
    "        myshape = adjacency.shape\n",
    "        adatadf = adata.to_df()\n",
    "        \n",
    "        #cci权重\n",
    "        print(\"倍数：\",cci_k)\n",
    "        for i in cci_df.iterrows():\n",
    "            if i[0]%10000 == 0:\n",
    "                print(i[0])\n",
    "            ligand_cell = i[1]['sender_cells']\n",
    "            receptor_cell = i[1]['receiver_cells']\n",
    "            prob = i[1]['prob'] \n",
    "            ligandLoc= adatadf.index.get_loc(ligand_cell)\n",
    "            receptorLoc = adatadf.index.get_loc(receptor_cell)\n",
    "\n",
    "            if(arr[ligandLoc][receptorLoc]!= 0):\n",
    "                arr[ligandLoc][receptorLoc] += (prob * cci_k)\n",
    "                # arr[ligandLoc][receptorLoc] = 0\n",
    "                # print(ligandLoc,receptorLoc,prob,arr[ligandLoc][receptorLoc])\n",
    "\n",
    "            if(arr[receptorLoc][ligandLoc]!= 0):\n",
    "                arr[receptorLoc][ligandLoc] += (prob * cci_k)\n",
    "                # arr[ligandLoc][receptorLoc] = 0\n",
    "        #new connectivitis\n",
    "        from scipy.sparse import csr_matrix\n",
    "        row, col = np.nonzero(arr)\n",
    "        values = arr[row, col]\n",
    "        adjacency = csr_matrix((values,(row,col)),shape=myshape)\n",
    "        adata.obsp['connectivities'] = adjacency\n",
    "        \n",
    "    \n",
    "    "
   ]
  }
 ],
 "metadata": {
  "kernelspec": {
   "display_name": "Python 3 (ipykernel)",
   "language": "python",
   "name": "python3"
  },
  "language_info": {
   "codemirror_mode": {
    "name": "ipython",
    "version": 3
   },
   "file_extension": ".py",
   "mimetype": "text/x-python",
   "name": "python",
   "nbconvert_exporter": "python",
   "pygments_lexer": "ipython3",
   "version": "3.7.16"
  }
 },
 "nbformat": 4,
 "nbformat_minor": 5
}
